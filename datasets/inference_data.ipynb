{
 "cells": [
  {
   "cell_type": "code",
   "execution_count": null,
   "id": "7e619fbc",
   "metadata": {},
   "outputs": [],
   "source": [
    "import os\n",
    "import json\n",
    "import numpy as np\n",
    "from scipy.spatial.transform import Rotation\n",
    "from text_encoder import FastTextEncoder"
   ]
  },
  {
   "cell_type": "code",
   "execution_count": null,
   "id": "31d3b259",
   "metadata": {},
   "outputs": [],
   "source": [
    "# Specify the file path where you want to save the JSON data\n",
    "save_path = 'datasets/data/inference.json'"
   ]
  },
  {
   "cell_type": "code",
   "execution_count": null,
   "id": "366bad46",
   "metadata": {},
   "outputs": [],
   "source": [
    "# Specify Text Encoder\n",
    "text_encoder = FastTextEncoder()"
   ]
  },
  {
   "attachments": {},
   "cell_type": "markdown",
   "id": "92e2903e",
   "metadata": {},
   "source": [
    "Specify the objects in your scene. Following objects are allowed:\n",
    "('chair', 'shelf', 'lamp', 'table', 'cabinet', 'light', 'armchair', 'stool', 'kitchen cabinet', 'sink', 'commode', 'trash can', 'heater', 'wardrobe', 'bed', 'bench', 'desk', 'sofa', 'monitor', 'tv', 'nightstand', 'coffee table', 'bath cabinet', 'rack', 'toilet', 'kitchen counter', 'radiator', 'stand', 'counter', 'couch', 'pc', 'stove', 'tv stand', 'side table', 'clothes dryer', 'showcase', 'oven', 'refrigerator', 'washing machine', 'bin', 'couch table', 'shower', 'dining chair', 'cupboard', 'desk chair', 'bathtub', 'organizer', 'shower curtain', 'bookshelf', 'bedside table', 'carpet')"
   ]
  },
  {
   "cell_type": "code",
   "execution_count": null,
   "id": "d339c1a3",
   "metadata": {},
   "outputs": [],
   "source": [
    "# MANUAL INPUT REQUIRED\n",
    "objects = ['chair', 'bed', 'table', 'tv']"
   ]
  },
  {
   "cell_type": "code",
   "execution_count": null,
   "id": "bab1d62f",
   "metadata": {},
   "outputs": [],
   "source": [
    "mapping_labels = {index + 1: obj for index, obj in enumerate(objects)}\n",
    "\n",
    "print(mapping_labels)"
   ]
  },
  {
   "attachments": {},
   "cell_type": "markdown",
   "id": "700ed494",
   "metadata": {},
   "source": [
    "You can choose from following relationships"
   ]
  },
  {
   "cell_type": "code",
   "execution_count": null,
   "id": "cce9bca7",
   "metadata": {},
   "outputs": [],
   "source": [
    "allowed_relationships = ['left', 'right', 'close by', 'behind', 'front', 'attached to', 'standing on', 'lower than', 'higher than', 'lying on', 'smaller than', 'bigger than', 'hanging on', 'supported by', 'standing in', 'leaning against', 'build in', 'lying in', 'connected to', 'belonging to', 'cover', 'part of', 'hanging in']\n",
    "mapping_relationships = {index + 1: obj for index, obj in enumerate(allowed_relationships)}\n",
    "print(mapping_relationships)"
   ]
  },
  {
   "attachments": {},
   "cell_type": "markdown",
   "id": "0e2c89a3",
   "metadata": {},
   "source": [
    "Specify your relationships"
   ]
  },
  {
   "cell_type": "code",
   "execution_count": null,
   "id": "6d2458f0",
   "metadata": {},
   "outputs": [],
   "source": [
    "# MANUAL INPUT REQUIRED\n",
    "obj_1 = np.array([2, 3, 1, 4])\n",
    "obj_2 = np.array([1, 2, 3, 3])\n",
    "relations = np.array([2, 3, 2, 4])"
   ]
  },
  {
   "cell_type": "code",
   "execution_count": null,
   "id": "36a6faf9",
   "metadata": {},
   "outputs": [],
   "source": [
    "# Create object matrix\n",
    "encoded_objects = np.asarray([text_encoder.encode(label)[0] for label in objects])\n",
    "\n",
    "# Determine the desired number of rows\n",
    "desired_rows = 20\n",
    "# Add rows of zeros to each matrix\n",
    "object_matrix_np = np.pad(encoded_objects, [(0, desired_rows - encoded_objects.shape[0]), (0, 0)], mode='constant')\n",
    "object_matrix = object_matrix_np.tolist()\n",
    "\n",
    "edge_matrix = np.stack((obj_1, obj_2)).tolist()\n",
    "relationship_vector = relations.tolist()\n"
   ]
  },
  {
   "cell_type": "code",
   "execution_count": null,
   "id": "68476c51",
   "metadata": {},
   "outputs": [],
   "source": [
    "scenes = []\n",
    "\n",
    "scene_data = {}\n",
    "scene_data['graph_objects'] = object_matrix\n",
    "scene_data['graph_edges'] = edge_matrix\n",
    "scene_data['graph_relationships'] = relationship_vector\n",
    "scene_data['scene_matrix'] = np.zeros((desired_rows, 9)).tolist()\n",
    "# assign objects and pad until length 20 with 'none' string\n",
    "scene_data['labels'] = objects + ['none'] * (desired_rows - len(objects))\n",
    "\n",
    "scenes.append(scene_data)\n",
    "data = {\"scenes\": scenes}"
   ]
  },
  {
   "cell_type": "code",
   "execution_count": null,
   "id": "d2c3a727",
   "metadata": {},
   "outputs": [],
   "source": [
    "# Save data as a JSON file\n",
    "with open(save_path, \"w\") as json_file:\n",
    "    json.dump(data, json_file)"
   ]
  },
  {
   "cell_type": "code",
   "execution_count": null,
   "id": "d5d9ff44",
   "metadata": {},
   "outputs": [],
   "source": []
  }
 ],
 "metadata": {
  "kernelspec": {
   "display_name": "Python 3 (ipykernel)",
   "language": "python",
   "name": "python3"
  },
  "language_info": {
   "codemirror_mode": {
    "name": "ipython",
    "version": 3
   },
   "file_extension": ".py",
   "mimetype": "text/x-python",
   "name": "python",
   "nbconvert_exporter": "python",
   "pygments_lexer": "ipython3",
   "version": "3.10.11"
  }
 },
 "nbformat": 4,
 "nbformat_minor": 5
}
