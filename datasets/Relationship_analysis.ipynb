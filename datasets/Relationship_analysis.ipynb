{
 "cells": [
  {
   "cell_type": "code",
   "execution_count": 1,
   "id": "b5885176",
   "metadata": {},
   "outputs": [],
   "source": [
    "import os\n",
    "import json\n",
    "import numpy as np\n",
    "from scipy.spatial.transform import Rotation\n",
    "import matplotlib.pyplot as plt\n",
    "import operator"
   ]
  },
  {
   "cell_type": "code",
   "execution_count": 2,
   "id": "98fb8470",
   "metadata": {},
   "outputs": [],
   "source": [
    "path_to_relationships = '3RScan/data/relationships.json'\n",
    "path_to_scene_folders = '3RScan/data/train'"
   ]
  },
  {
   "cell_type": "code",
   "execution_count": 3,
   "id": "a52d2eef",
   "metadata": {},
   "outputs": [
    {
     "name": "stdout",
     "output_type": "stream",
     "text": [
      "no relationships for:  .DS_Store\n"
     ]
    }
   ],
   "source": [
    "# Iterate over the folders\n",
    "scene_relationships = {}\n",
    "i = 0\n",
    "for scan_folder in os.listdir(path_to_scene_folders):\n",
    "        \n",
    "    with open(path_to_relationships) as f:\n",
    "        relationships_data = json.load(f)\n",
    "\n",
    "    relationships = relationships_data['scans']\n",
    "\n",
    "    # Find the relationships for the scene with the given id\n",
    "    relationships = [r for r in relationships if r['scan'] == scan_folder]\n",
    "    #print('Found {} relationships dictionary for scene {}'.format(len(relationships), scan_folder))\n",
    "    if len(relationships) == 0:\n",
    "        print('no relationships for: ', scan_folder)\n",
    "        continue\n",
    "    scene_relationships[scan_folder] = relationships[0]['relationships']\n",
    "    \n",
    "    i+=1\n"
   ]
  },
  {
   "cell_type": "code",
   "execution_count": 4,
   "id": "017e2b91",
   "metadata": {},
   "outputs": [
    {
     "name": "stdout",
     "output_type": "stream",
     "text": [
      "[359, 109, 320, 179, 193, 186, 206, 37, 183, 964, 1191, 357, 445, 278, 1250, 138, 500, 662, 389, 746, 122, 284, 230, 1402, 1226, 84, 202, 21, 175, 80, 130, 448, 1238, 303, 428, 383, 437, 414, 793, 312, 359, 28, 529, 5167, 20, 254, 391, 226, 849, 73, 186, 228, 482, 105, 550, 392, 263, 1834, 65, 734, 485, 133, 349, 80, 58, 200, 617, 536, 242, 212, 414, 131, 153, 96, 745, 279, 128, 152, 177, 372, 215, 559, 217, 135, 386, 329, 77, 325, 259, 120, 384, 243, 207, 107, 444, 908, 97, 966, 1, 813, 148, 1683, 651, 289, 493, 1064, 581, 86, 210, 1231, 742, 227, 464, 243, 189, 675, 425, 193, 411, 614, 51, 254, 201, 799, 513, 219, 196, 712, 61, 132, 471, 73, 240, 493, 326, 240, 189, 181, 286, 428, 214, 550, 577, 475, 259, 97, 265, 153, 2017, 268, 125, 1547, 824, 33, 2614, 95, 408, 315, 576, 759, 194, 1418, 363, 664, 808, 797, 73, 70, 122, 310, 24, 275, 2371, 404, 258, 186, 72, 80, 961, 245, 167, 78, 250, 1375, 284, 708, 263, 187, 2, 631, 364, 146, 994, 1142, 239, 458, 176, 427, 63, 292, 245, 300, 89, 380, 309, 308, 1751, 212, 197, 275, 93, 309, 33, 51, 487, 107, 43, 264, 596, 100, 388, 16, 388, 809, 540, 1307, 3107, 682, 856, 1184, 258, 517, 295, 8, 519, 185, 184, 174, 102, 134, 183, 225, 111, 349, 441, 207, 4, 142, 371, 430, 182, 57, 13, 444, 1119, 336, 140, 1142, 1288, 247, 207, 374, 761, 29, 355, 2656, 772, 320, 130, 1894, 516, 495, 1371, 426, 616, 377, 516, 460, 548, 81, 1148, 109, 527, 980, 171, 296, 204, 355, 103, 531, 102, 442, 808, 1029, 306, 357, 743, 252, 56, 1, 369, 2360, 131, 366, 95, 1840, 106, 90, 141, 34, 161, 596, 2002, 378, 51, 1191, 155, 262, 120, 50, 786, 1322, 379, 169, 1084, 214, 285, 169, 41, 455, 441, 215, 160, 17, 82, 265, 462, 190, 189, 81, 390, 48, 68, 189, 1608, 138, 336, 69, 292, 126, 35, 173, 610, 441, 310, 161, 4122, 596, 472, 124, 339, 299, 121, 16, 600, 179, 846, 288, 103, 2926, 28, 293, 405, 70, 791, 698, 343, 82, 126, 364, 287, 234, 4878, 232, 221]\n"
     ]
    },
    {
     "data": {
      "image/png": "[encoded data removed]",
      "text/plain": [
       "<Figure size 640x480 with 1 Axes>"
      ]
     },
     "metadata": {},
     "output_type": "display_data"
    }
   ],
   "source": [
    "# Number of realtionships per scene\n",
    "# Count the number of objects per scene ID\n",
    "object_counts = [len(relationships) for relationships in scene_relationships.values()]\n",
    "print(object_counts)\n",
    "\n",
    "# Plot the histogram\n",
    "plt.hist(object_counts, bins=100, align='left', rwidth=0.8)\n",
    "plt.xlabel('Number of Objects')\n",
    "plt.ylabel('Frequency')\n",
    "plt.title('Number of Objects per Scene ID')\n",
    "\n",
    "# Set custom tick values and labels for better readability\n",
    "plt.xticks(np.arange(0, 5500, step=500))\n",
    "\n",
    "\n",
    "plt.show()"
   ]
  },
  {
   "cell_type": "code",
   "execution_count": 5,
   "id": "5b0bd0ad",
   "metadata": {},
   "outputs": [
    {
     "name": "stdout",
     "output_type": "stream",
     "text": [
      "['same object type', 'same shape', 'same color', 'left', 'right', 'close by', 'behind', 'front', 'same material', 'attached to', 'standing on', 'same as', 'lower than', 'higher than', 'same state', 'darker than', 'brighter than', 'lying on', 'smaller than', 'bigger than', 'hanging on', 'same texture', 'supported by', 'cleaner than', 'messier than', 'same symmetry as', 'more comfortable than', 'more closed', 'more open', 'standing in', 'leaning against', 'build in', 'lying in', 'connected to', 'belonging to', 'cover', 'part of', 'fuller than', 'hanging in']\n",
      "same object type: 37126\n",
      "same shape: 29132\n",
      "same color: 17780\n",
      "left: 15006\n",
      "right: 15006\n",
      "close by: 8562\n",
      "behind: 8179\n",
      "front: 8179\n",
      "same material: 7018\n",
      "attached to: 4097\n",
      "standing on: 3755\n",
      "same as: 3188\n",
      "lower than: 3069\n",
      "higher than: 3069\n",
      "same state: 2914\n",
      "darker than: 2198\n",
      "brighter than: 2198\n",
      "lying on: 1425\n",
      "smaller than: 1295\n",
      "bigger than: 1295\n",
      "hanging on: 849\n",
      "same texture: 832\n",
      "supported by: 413\n",
      "cleaner than: 229\n",
      "messier than: 229\n",
      "same symmetry as: 226\n",
      "more comfortable than: 214\n",
      "more closed: 164\n",
      "more open: 164\n",
      "standing in: 143\n",
      "leaning against: 137\n",
      "build in: 115\n",
      "lying in: 87\n",
      "connected to: 87\n",
      "belonging to: 47\n",
      "cover: 38\n",
      "part of: 37\n",
      "fuller than: 18\n",
      "hanging in: 4\n"
     ]
    }
   ],
   "source": [
    "# Count the occurrences of labels\n",
    "label_counts = {}\n",
    "\n",
    "for scene_data in scene_relationships.values():\n",
    "    for object_data in scene_data:\n",
    "        label = object_data[3]  # Assuming the label is always at index 3\n",
    "        if label in label_counts:\n",
    "            label_counts[label] += 1\n",
    "        else:\n",
    "            label_counts[label] = 1\n",
    "\n",
    "# Sort the labels by their occurrences\n",
    "sorted_labels = sorted(label_counts.items(), key=operator.itemgetter(1), reverse=True)\n",
    "\n",
    "# Store the labels in a separate list\n",
    "labels_list = [label for label, _ in sorted_labels]\n",
    "\n",
    "# Print all the labels in one list\n",
    "print(labels_list)\n",
    "\n",
    "# Print the sorted labels and their occurrences\n",
    "for label, count in sorted_labels:\n",
    "    print(f\"{label}: {count}\")"
   ]
  },
  {
   "cell_type": "code",
   "execution_count": null,
   "id": "908b42f5",
   "metadata": {},
   "outputs": [],
   "source": []
  }
 ],
 "metadata": {
  "kernelspec": {
   "display_name": "Python 3 (ipykernel)",
   "language": "python",
   "name": "python3"
  },
  "language_info": {
   "codemirror_mode": {
    "name": "ipython",
    "version": 3
   },
   "file_extension": ".py",
   "mimetype": "text/x-python",
   "name": "python",
   "nbconvert_exporter": "python",
   "pygments_lexer": "ipython3",
   "version": "3.10.4"
  }
 },
 "nbformat": 4,
 "nbformat_minor": 5
}
