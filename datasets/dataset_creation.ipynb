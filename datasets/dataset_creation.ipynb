{
 "cells": [
  {
   "cell_type": "markdown",
   "id": "c3e00e7f",
   "metadata": {},
   "source": [
    "Format of the file:\n",
    "```\n",
    "{\n",
    "  \"scenes\": [\n",
    "    {\n",
    "      \"scene_id\": \"XXXXXXXXX\",\n",
    "      \"scene_matrix\": [20, 309], #  --> (text_emb, location, euler_angles, sizes)\n",
    "      \"graph_objects\": [20, 300], # --> (text_emb)\n",
    "      \"graph_edges\": [2, 50], # --> (o1, o2)\n",
    "      \"graph_relationships\": [50] # --> int\n",
    "    },\n",
    "    {\n",
    "      \"scene_id\": \"YYYYYYYYYYY\",\n",
    "      ...\n",
    "    }\n",
    "    ...\n",
    "  ]\n",
    "}\n",
    "\n",
    "```"
   ]
  },
  {
   "cell_type": "code",
   "execution_count": 7,
   "id": "f34805b8",
   "metadata": {},
   "outputs": [],
   "source": [
    "import os\n",
    "import json\n",
    "import numpy as np\n",
    "from scipy.spatial.transform import Rotation\n",
    "#from text_encoder.py import FastTextEncoder"
   ]
  },
  {
   "cell_type": "code",
   "execution_count": 18,
   "id": "c08c008f",
   "metadata": {},
   "outputs": [],
   "source": [
    "# Specify the file path where you want to save the JSON data\n",
    "save_path = 'path/to/your/file.json'\n",
    "\n",
    "# File path to scene folders\n",
    "path_to_scene_folders = '3RScan/data/train'\n",
    "path_to_relationships = '3RScan/data/relationships.json'"
   ]
  },
  {
   "cell_type": "markdown",
   "id": "5b7558f1",
   "metadata": {},
   "source": [
    "We filter:\n",
    "* max number of objects per scene = 20\n",
    "* allowed object labels: \n",
    "('chair', 'pillow', 'box', 'shelf', 'lamp', 'table', 'door', 'curtain', 'picture', 'cabinet', 'bag', 'light', 'armchair', 'clothes', 'stool', 'kitchen cabinet', 'towel', 'sink', 'blanket', 'commode', 'trash can', 'heater', 'wardrobe', 'bed', 'bench', 'desk', 'sofa', 'monitor', 'basket', 'cushion', 'tv', 'nightstand', 'coffee table', 'mirror', 'bath cabinet', 'rack', 'toilet', 'kitchen counter', 'shoes', 'radiator', 'clutter', 'frame', 'decoration', 'backpack', 'stand', 'bucket', 'counter', 'couch', 'kitchen appliance', 'pc', 'stove', 'tv stand', 'vase', 'side table', 'clothes dryer', 'showcase', 'plate', 'oven', 'refrigerator', 'flower', 'book', 'washing machine', 'plank', 'pillar', 'clock', 'candle', 'bottle', 'telephone', 'bin', 'microwave', 'puf', 'couch table', 'whiteboard', 'laptop', 'shower', 'toilet paper', 'bowl', 'dining chair', 'cupboard', 'roll', 'suitcase', 'desk chair', 'bathtub', 'stairs', 'organizer', 'shower curtain', 'pipe', 'bookshelf', 'bedside table', 'printer', 'boxes', 'toilet brush', 'kitchen towel', 'laundry basket', 'kettle', 'pack', 'stuffed animal', 'carpet', 'soap dispenser', 'ottoman')"
   ]
  },
  {
   "cell_type": "code",
   "execution_count": 19,
   "id": "6ca6d3f5",
   "metadata": {},
   "outputs": [],
   "source": [
    "def extract_and_filter_semseg(scan_folder):\n",
    "    scan_folder_path = os.path.join(path_to_scene_folders, scan_folder)\n",
    "    \n",
    "    # Check if the folder contains semseg.v2.json file\n",
    "    semseg_file = os.path.join(scan_folder_path, 'semseg.v2.json')\n",
    "    if not os.path.isfile(semseg_file):\n",
    "        print(\"This folder has no semseg file: \", scan_folder)\n",
    "\n",
    "    # Read and parse the semseg.v2.json file\n",
    "    with open(semseg_file, 'r') as file:\n",
    "        semseg_data = json.load(file)\n",
    "        \n",
    "    # Define allowed labels\n",
    "    allowed_labels = ['chair', 'pillow', 'box', 'shelf', 'lamp', 'table', 'door', 'curtain', 'picture', 'cabinet', 'bag', 'light', 'armchair', 'clothes', 'stool', 'kitchen cabinet', 'towel', 'sink', 'blanket', 'commode', 'trash can', 'heater', 'wardrobe', 'bed', 'bench', 'desk', 'sofa', 'monitor', 'basket', 'cushion', 'tv', 'nightstand', 'coffee table', 'mirror', 'bath cabinet', 'rack', 'toilet', 'kitchen counter', 'shoes', 'radiator', 'clutter', 'frame', 'decoration', 'backpack', 'stand', 'bucket', 'counter', 'couch', 'kitchen appliance', 'pc', 'stove', 'tv stand', 'vase', 'side table', 'clothes dryer', 'showcase', 'plate', 'oven', 'refrigerator', 'flower', 'book', 'washing machine', 'plank', 'pillar', 'clock', 'candle', 'bottle', 'telephone', 'bin', 'microwave', 'puf', 'couch table', 'whiteboard', 'laptop', 'shower', 'toilet paper', 'bowl', 'dining chair', 'cupboard', 'roll', 'suitcase', 'desk chair', 'bathtub', 'stairs', 'organizer', 'shower curtain', 'pipe', 'bookshelf', 'bedside table', 'printer', 'boxes', 'toilet brush', 'kitchen towel', 'laundry basket', 'kettle', 'pack', 'stuffed animal', 'carpet', 'soap dispenser', 'ottoman']\n",
    "\n",
    "    seg_groups = semseg_data['segGroups']\n",
    "    \n",
    "    extracted_objects = []\n",
    "    number_objects = 0\n",
    "\n",
    "    # Extract individual objects\n",
    "    for object_data in seg_groups:\n",
    "        obj = {}\n",
    "    \n",
    "        \n",
    "        if (object_data['label'] in allowed_labels) and number_objects < 20:\n",
    "            obj['label'] = object_data['label']\n",
    "            obj['id'] = object_data['objectId']\n",
    "            obj['location'] = object_data['obb']['centroid']\n",
    "            obj['size'] = object_data['obb']['axesLengths']\n",
    "\n",
    "            normalized_axes = object_data['obb']['normalizedAxes']\n",
    "            rotation_matrix = np.transpose(np.array(normalized_axes).reshape(3, 3))\n",
    "            rotation = Rotation.from_matrix(rotation_matrix)\n",
    "            euler_angles = rotation.as_euler('xyz', degrees=False) # degrees in radians\n",
    "            obj['euler_angles'] = euler_angles\n",
    "            \n",
    "            extracted_objects.append(obj)\n",
    "            number_objects += 1\n",
    "\n",
    "    \n",
    "    return extracted_objects"
   ]
  },
  {
   "cell_type": "code",
   "execution_count": 54,
   "id": "cc2ad090",
   "metadata": {},
   "outputs": [],
   "source": [
    "def extract_and_filter_relationships(scan_folder, extracted_objects):\n",
    "    allowed_object_ids = {obj['id'] for obj in extracted_objects}\n",
    "    \n",
    "    with open(path_to_relationships) as f:\n",
    "        relationships_data = json.load(f)\n",
    "\n",
    "    scene_relationships = relationships_data['scans']\n",
    "\n",
    "    # Find the relationships for the scene with the given id\n",
    "    scene_relationships = [r for r in scene_relationships if r['scan'] == scan_folder]\n",
    "    print('Found {} relationships dictionary for scene {}'.format(len(scene_relationships), scan_folder))\n",
    "    scene_relationships = scene_relationships[0]['relationships']\n",
    "\n",
    "    filtered_relationships = [item for item in scene_relationships if item[0] in allowed_object_ids and item[1] in allowed_object_ids]\n",
    "\n",
    "    print(f\"Found {len(filtered_relationships)} relationships for scene {scan_folder}\")\n",
    "\n",
    "\n",
    "    print(scene_relationships)\n"
   ]
  },
  {
   "cell_type": "code",
   "execution_count": 55,
   "id": "2d328dbe",
   "metadata": {},
   "outputs": [],
   "source": [
    "def build_scene_matrix(extracted_objects):\n",
    "    '''\n",
    "    # Label Embedding\n",
    "    text_encoder = FastTextEncoder()\n",
    "    # Extract the labels from the data\n",
    "    labels = [obj['label'] for obj in extracted_objects]\n",
    "    # Encode the labels using text_encoder.encode()\n",
    "    embeddings = [text_encoder.encode(label) for label in labels]\n",
    "    '''\n",
    "    \n",
    "    # Extract values from the dataset\n",
    "    locations = np.array([obj['location'] for obj in extracted_objects])\n",
    "    euler_angles = np.array([obj['euler_angles'] for obj in extracted_objects])\n",
    "    sizes = np.array([obj['size'] for obj in extracted_objects])\n",
    "\n",
    "    # Create the matrix\n",
    "    stacked_matrix = np.hstack((locations, euler_angles, sizes))\n",
    "    \n",
    "    # Determine the desired number of rows\n",
    "    desired_rows = 20\n",
    "\n",
    "    # Add rows of zeros to each matrix\n",
    "    scene_matrix = np.pad(stacked_matrix, [(0, desired_rows - stacked_matrix.shape[0]), (0, 0)], mode='constant')\n",
    "    \n",
    "    return scene_matrix\n",
    "\n",
    "\n",
    "    "
   ]
  },
  {
   "cell_type": "code",
   "execution_count": 56,
   "id": "6db43a8f",
   "metadata": {},
   "outputs": [
    {
     "name": "stdout",
     "output_type": "stream",
     "text": [
      "Found 1 relationships dictionary for scene f4f31600-8408-2255-971c-b8c20605563a\n",
      "Found 134 relationships for scene f4f31600-8408-2255-971c-b8c20605563a\n",
      "[[1, 2, 14, 'attached to'], [1, 7, 14, 'attached to'], [1, 8, 14, 'attached to'], [1, 9, 14, 'attached to'], [2, 11, 14, 'attached to'], [3, 2, 17, 'hanging on'], [4, 5, 15, 'standing on'], [5, 11, 15, 'standing on'], [6, 11, 15, 'standing on'], [7, 11, 14, 'attached to'], [8, 11, 14, 'attached to'], [9, 11, 14, 'attached to'], [10, 11, 15, 'standing on'], [12, 11, 15, 'standing on'], [13, 11, 15, 'standing on'], [14, 13, 15, 'standing on'], [15, 12, 15, 'standing on'], [16, 11, 15, 'standing on'], [17, 9, 14, 'attached to'], [18, 40, 21, 'belonging to'], [19, 11, 16, 'lying on'], [20, 11, 15, 'standing on'], [27, 16, 16, 'lying on'], [28, 16, 16, 'lying on'], [29, 16, 16, 'lying on'], [30, 16, 16, 'lying on'], [31, 11, 16, 'lying on'], [32, 11, 16, 'lying on'], [33, 11, 16, 'lying on'], [34, 11, 15, 'standing on'], [35, 10, 23, 'standing in'], [36, 10, 1, 'supported by'], [37, 10, 25, 'lying in'], [39, 10, 25, 'lying in'], [40, 11, 15, 'standing on'], [40, 9, 14, 'attached to'], [42, 11, 16, 'lying on'], [43, 11, 16, 'lying on'], [47, 11, 16, 'lying on'], [5, 6, 5, 'behind'], [5, 6, 2, 'left'], [5, 10, 3, 'right'], [5, 12, 4, 'front'], [5, 16, 3, 'right'], [5, 16, 6, 'close by'], [5, 16, 5, 'behind'], [5, 19, 2, 'left'], [5, 20, 2, 'left'], [5, 40, 3, 'right'], [5, 42, 3, 'right'], [5, 43, 5, 'behind'], [5, 43, 6, 'close by'], [5, 43, 2, 'left'], [5, 47, 2, 'left'], [6, 5, 4, 'front'], [6, 5, 3, 'right'], [6, 10, 3, 'right'], [6, 10, 5, 'behind'], [6, 12, 4, 'front'], [6, 16, 3, 'right'], [6, 19, 5, 'behind'], [6, 20, 4, 'front'], [6, 20, 2, 'left'], [6, 40, 3, 'right'], [6, 42, 3, 'right'], [6, 43, 4, 'front'], [6, 43, 6, 'close by'], [6, 47, 6, 'close by'], [10, 5, 2, 'left'], [10, 6, 4, 'front'], [10, 6, 2, 'left'], [10, 13, 3, 'right'], [10, 16, 4, 'front'], [10, 31, 6, 'close by'], [10, 32, 3, 'right'], [10, 32, 4, 'front'], [10, 33, 3, 'right'], [10, 33, 6, 'close by'], [10, 34, 3, 'right'], [10, 40, 5, 'behind'], [10, 40, 2, 'left'], [10, 42, 2, 'left'], [12, 5, 5, 'behind'], [12, 6, 5, 'behind'], [12, 13, 3, 'right'], [12, 16, 6, 'close by'], [12, 16, 5, 'behind'], [12, 32, 3, 'right'], [12, 33, 3, 'right'], [12, 34, 3, 'right'], [12, 42, 2, 'left'], [13, 10, 2, 'left'], [13, 12, 2, 'left'], [13, 16, 6, 'close by'], [13, 16, 2, 'left'], [13, 31, 5, 'behind'], [13, 31, 2, 'left'], [13, 32, 5, 'behind'], [13, 32, 6, 'close by'], [13, 32, 2, 'left'], [13, 33, 5, 'behind'], [13, 33, 2, 'left'], [13, 34, 3, 'right'], [13, 34, 5, 'behind'], [13, 43, 4, 'front'], [16, 5, 4, 'front'], [16, 5, 6, 'close by'], [16, 5, 2, 'left'], [16, 6, 2, 'left'], [16, 10, 5, 'behind'], [16, 12, 4, 'front'], [16, 12, 6, 'close by'], [16, 13, 3, 'right'], [16, 13, 6, 'close by'], [16, 19, 2, 'left'], [16, 31, 6, 'close by'], [16, 32, 3, 'right'], [16, 32, 6, 'close by'], [16, 32, 5, 'behind'], [16, 33, 5, 'behind'], [16, 34, 3, 'right'], [16, 40, 2, 'left'], [16, 42, 6, 'close by'], [16, 43, 2, 'left'], [16, 47, 2, 'left'], [17, 40, 2, 'left'], [19, 5, 3, 'right'], [19, 6, 4, 'front'], [19, 16, 3, 'right'], [19, 20, 2, 'left'], [19, 33, 4, 'front'], [19, 40, 3, 'right'], [19, 40, 6, 'close by'], [19, 40, 5, 'behind'], [19, 42, 3, 'right'], [19, 43, 2, 'left'], [19, 47, 6, 'close by'], [19, 47, 2, 'left'], [20, 5, 3, 'right'], [20, 6, 3, 'right'], [20, 6, 5, 'behind'], [20, 19, 3, 'right'], [20, 40, 3, 'right'], [20, 43, 3, 'right'], [20, 47, 3, 'right'], [27, 28, 4, 'front'], [27, 28, 6, 'close by'], [27, 28, 2, 'left'], [27, 29, 4, 'front'], [27, 29, 2, 'left'], [27, 30, 6, 'close by'], [27, 30, 2, 'left'], [28, 27, 3, 'right'], [28, 27, 6, 'close by'], [28, 27, 5, 'behind'], [28, 29, 2, 'left'], [28, 30, 6, 'close by'], [28, 30, 2, 'left'], [29, 27, 3, 'right'], [29, 27, 5, 'behind'], [29, 28, 3, 'right'], [29, 30, 6, 'close by'], [30, 27, 3, 'right'], [30, 27, 6, 'close by'], [30, 28, 3, 'right'], [30, 28, 6, 'close by'], [30, 29, 6, 'close by'], [31, 10, 6, 'close by'], [31, 13, 4, 'front'], [31, 13, 3, 'right'], [31, 16, 6, 'close by'], [31, 32, 3, 'right'], [31, 32, 6, 'close by'], [31, 32, 4, 'front'], [31, 33, 3, 'right'], [31, 33, 5, 'behind'], [31, 34, 3, 'right'], [31, 34, 5, 'behind'], [31, 40, 5, 'behind'], [31, 40, 2, 'left'], [31, 42, 2, 'left'], [31, 47, 5, 'behind'], [32, 10, 5, 'behind'], [32, 10, 2, 'left'], [32, 12, 2, 'left'], [32, 13, 4, 'front'], [32, 13, 3, 'right'], [32, 13, 6, 'close by'], [32, 16, 4, 'front'], [32, 16, 6, 'close by'], [32, 16, 2, 'left'], [32, 31, 5, 'behind'], [32, 31, 6, 'close by'], [32, 31, 2, 'left'], [32, 33, 5, 'behind'], [32, 34, 3, 'right'], [32, 34, 6, 'close by'], [32, 34, 5, 'behind'], [32, 42, 4, 'front'], [32, 47, 5, 'behind'], [33, 10, 6, 'close by'], [33, 10, 2, 'left'], [33, 12, 2, 'left'], [33, 13, 4, 'front'], [33, 13, 3, 'right'], [33, 16, 4, 'front'], [33, 19, 5, 'behind'], [33, 31, 4, 'front'], [33, 31, 2, 'left'], [33, 32, 4, 'front'], [33, 34, 3, 'right'], [33, 34, 4, 'front'], [33, 40, 5, 'behind'], [33, 47, 5, 'behind'], [34, 10, 2, 'left'], [34, 12, 2, 'left'], [34, 13, 4, 'front'], [34, 13, 2, 'left'], [34, 16, 2, 'left'], [34, 31, 4, 'front'], [34, 31, 2, 'left'], [34, 32, 4, 'front'], [34, 32, 6, 'close by'], [34, 32, 2, 'left'], [34, 33, 5, 'behind'], [34, 33, 2, 'left'], [34, 42, 4, 'front'], [34, 47, 5, 'behind'], [35, 36, 6, 'close by'], [35, 36, 2, 'left'], [35, 37, 5, 'behind'], [35, 37, 2, 'left'], [35, 39, 5, 'behind'], [36, 35, 3, 'right'], [36, 35, 6, 'close by'], [36, 37, 5, 'behind'], [36, 37, 2, 'left'], [36, 39, 2, 'left'], [37, 35, 4, 'front'], [37, 35, 3, 'right'], [37, 36, 4, 'front'], [37, 36, 3, 'right'], [37, 39, 5, 'behind'], [37, 39, 2, 'left'], [39, 35, 4, 'front'], [39, 36, 3, 'right'], [39, 37, 4, 'front'], [39, 37, 3, 'right'], [40, 5, 2, 'left'], [40, 6, 2, 'left'], [40, 10, 4, 'front'], [40, 10, 3, 'right'], [40, 16, 3, 'right'], [40, 17, 3, 'right'], [40, 19, 4, 'front'], [40, 19, 6, 'close by'], [40, 19, 2, 'left'], [40, 20, 2, 'left'], [40, 31, 4, 'front'], [40, 31, 3, 'right'], [40, 33, 4, 'front'], [40, 42, 3, 'right'], [40, 43, 2, 'left'], [40, 47, 2, 'left'], [42, 5, 2, 'left'], [42, 6, 2, 'left'], [42, 10, 3, 'right'], [42, 12, 3, 'right'], [42, 16, 6, 'close by'], [42, 19, 2, 'left'], [42, 31, 3, 'right'], [42, 32, 5, 'behind'], [42, 34, 5, 'behind'], [42, 40, 2, 'left'], [42, 43, 4, 'front'], [42, 43, 2, 'left'], [42, 47, 2, 'left'], [43, 5, 4, 'front'], [43, 5, 3, 'right'], [43, 5, 6, 'close by'], [43, 6, 6, 'close by'], [43, 6, 5, 'behind'], [43, 13, 5, 'behind'], [43, 16, 3, 'right'], [43, 19, 3, 'right'], [43, 20, 2, 'left'], [43, 40, 3, 'right'], [43, 42, 3, 'right'], [43, 42, 5, 'behind'], [43, 47, 3, 'right'], [47, 5, 3, 'right'], [47, 6, 6, 'close by'], [47, 16, 3, 'right'], [47, 19, 3, 'right'], [47, 19, 6, 'close by'], [47, 20, 2, 'left'], [47, 31, 4, 'front'], [47, 32, 4, 'front'], [47, 33, 4, 'front'], [47, 34, 4, 'front'], [47, 40, 3, 'right'], [47, 42, 3, 'right'], [47, 43, 2, 'left'], [27, 28, 11, 'lower than'], [28, 27, 10, 'higher than'], [31, 32, 10, 'higher than'], [32, 31, 11, 'lower than'], [35, 47, 10, 'higher than'], [47, 35, 11, 'lower than'], [12, 13, 13, 'same as'], [13, 12, 13, 'same as'], [13, 12, 32, 'same object type'], [14, 15, 32, 'same object type'], [39, 19, 32, 'same object type'], [19, 37, 32, 'same object type'], [35, 47, 32, 'same object type'], [43, 39, 31, 'same state'], [42, 30, 32, 'same object type'], [28, 27, 32, 'same object type'], [9, 7, 32, 'same object type'], [33, 34, 32, 'same object type'], [8, 2, 32, 'same object type'], [4, 11, 30, 'same shape'], [15, 14, 32, 'same object type'], [39, 37, 32, 'same object type'], [30, 42, 32, 'same object type'], [12, 13, 32, 'same object type'], [19, 39, 32, 'same object type'], [37, 19, 32, 'same object type'], [47, 35, 32, 'same object type'], [7, 2, 32, 'same object type'], [29, 30, 32, 'same object type'], [2, 9, 32, 'same object type'], [39, 19, 34, 'cleaner than'], [18, 4, 30, 'same shape'], [8, 9, 32, 'same object type'], [19, 39, 33, 'messier than'], [4, 18, 30, 'same shape'], [9, 8, 32, 'same object type'], [39, 43, 31, 'same state'], [2, 8, 32, 'same object type'], [32, 31, 32, 'same object type'], [31, 32, 32, 'same object type'], [27, 28, 32, 'same object type'], [30, 29, 32, 'same object type'], [2, 7, 32, 'same object type'], [11, 18, 30, 'same shape'], [29, 42, 32, 'same object type'], [34, 33, 32, 'same object type'], [37, 39, 32, 'same object type'], [9, 2, 32, 'same object type'], [11, 4, 30, 'same shape'], [7, 8, 32, 'same object type'], [8, 7, 32, 'same object type'], [42, 29, 32, 'same object type'], [43, 19, 34, 'cleaner than'], [7, 9, 32, 'same object type'], [18, 11, 30, 'same shape'], [19, 43, 33, 'messier than']]\n"
     ]
    },
    {
     "name": "stdout",
     "output_type": "stream",
     "text": [
      "Found 1 relationships dictionary for scene b8837e3a-57ec-29c6-8b54-d440ca79a11f\n",
      "Found 106 relationships for scene b8837e3a-57ec-29c6-8b54-d440ca79a11f\n",
      "[[3, 1, 15, 'standing on'], [4, 1, 15, 'standing on'], [6, 4, 16, 'lying on'], [8, 4, 16, 'lying on'], [9, 4, 16, 'lying on'], [10, 4, 16, 'lying on'], [11, 1, 15, 'standing on'], [19, 4, 16, 'lying on'], [20, 4, 16, 'lying on'], [19, 6, 3, 'right'], [19, 8, 3, 'right'], [19, 8, 5, 'behind'], [19, 9, 3, 'right'], [19, 10, 3, 'right'], [19, 10, 6, 'close by'], [19, 20, 6, 'close by'], [19, 20, 2, 'left'], [3, 4, 6, 'close by'], [3, 4, 2, 'left'], [3, 11, 3, 'right'], [3, 11, 6, 'close by'], [4, 3, 3, 'right'], [4, 3, 6, 'close by'], [4, 11, 3, 'right'], [4, 11, 6, 'close by'], [6, 19, 2, 'left'], [6, 8, 4, 'front'], [6, 8, 6, 'close by'], [6, 8, 2, 'left'], [6, 9, 6, 'close by'], [6, 9, 2, 'left'], [6, 10, 4, 'front'], [6, 10, 2, 'left'], [8, 19, 4, 'front'], [8, 19, 2, 'left'], [8, 6, 3, 'right'], [8, 6, 6, 'close by'], [8, 6, 5, 'behind'], [8, 9, 6, 'close by'], [8, 9, 2, 'left'], [8, 10, 4, 'front'], [8, 10, 6, 'close by'], [8, 10, 2, 'left'], [8, 20, 4, 'front'], [8, 20, 2, 'left'], [9, 19, 2, 'left'], [9, 6, 3, 'right'], [9, 6, 6, 'close by'], [9, 8, 3, 'right'], [9, 8, 6, 'close by'], [9, 10, 6, 'close by'], [9, 10, 2, 'left'], [9, 20, 2, 'left'], [10, 19, 6, 'close by'], [10, 19, 2, 'left'], [10, 6, 3, 'right'], [10, 6, 5, 'behind'], [10, 8, 3, 'right'], [10, 8, 6, 'close by'], [10, 8, 5, 'behind'], [10, 9, 3, 'right'], [10, 9, 6, 'close by'], [10, 20, 2, 'left'], [11, 3, 6, 'close by'], [11, 3, 2, 'left'], [11, 4, 6, 'close by'], [11, 4, 2, 'left'], [20, 19, 3, 'right'], [20, 19, 6, 'close by'], [20, 8, 3, 'right'], [20, 8, 5, 'behind'], [20, 9, 3, 'right'], [20, 10, 3, 'right'], [3, 11, 11, 'lower than'], [11, 3, 10, 'higher than'], [19, 9, 32, 'same object type'], [19, 10, 32, 'same object type'], [11, 3, 32, 'same object type'], [19, 6, 32, 'same object type'], [10, 20, 32, 'same object type'], [8, 10, 32, 'same object type'], [9, 19, 32, 'same object type'], [20, 6, 32, 'same object type'], [20, 9, 32, 'same object type'], [8, 19, 32, 'same object type'], [9, 6, 32, 'same object type'], [9, 10, 32, 'same object type'], [10, 9, 32, 'same object type'], [6, 19, 32, 'same object type'], [10, 19, 32, 'same object type'], [19, 20, 32, 'same object type'], [3, 11, 32, 'same object type'], [8, 9, 32, 'same object type'], [9, 8, 32, 'same object type'], [19, 8, 32, 'same object type'], [8, 6, 32, 'same object type'], [6, 10, 32, 'same object type'], [10, 8, 32, 'same object type'], [6, 9, 32, 'same object type'], [6, 8, 32, 'same object type'], [20, 19, 32, 'same object type'], [11, 3, 31, 'same state'], [6, 20, 32, 'same object type'], [10, 6, 32, 'same object type'], [8, 20, 32, 'same object type'], [9, 20, 32, 'same object type'], [3, 11, 31, 'same state'], [20, 10, 32, 'same object type'], [20, 8, 32, 'same object type']]\n",
      "Found 1 relationships dictionary for scene b901681d-e754-293c-8cb3-22aae72dbd42\n",
      "Found 103 relationships for scene b901681d-e754-293c-8cb3-22aae72dbd42\n",
      "[[2, 31, 15, 'standing on'], [3, 31, 15, 'standing on'], [6, 51, 14, 'attached to'], [8, 31, 15, 'standing on'], [9, 26, 14, 'attached to'], [11, 26, 14, 'attached to'], [14, 26, 14, 'attached to'], [14, 50, 14, 'attached to'], [14, 51, 14, 'attached to'], [14, 52, 14, 'attached to'], [15, 31, 15, 'standing on'], [16, 50, 17, 'hanging on'], [17, 31, 16, 'lying on'], [21, 31, 15, 'standing on'], [23, 31, 15, 'standing on'], [26, 31, 14, 'attached to'], [30, 51, 15, 'standing on'], [43, 23, 16, 'lying on'], [44, 23, 16, 'lying on'], [45, 2, 16, 'lying on'], [47, 2, 16, 'lying on'], [50, 31, 14, 'attached to'], [51, 31, 14, 'attached to'], [52, 31, 14, 'attached to'], [53, 31, 15, 'standing on'], [54, 2, 16, 'lying on'], [55, 31, 15, 'standing on'], [18, 50, 17, 'hanging on'], [2, 3, 3, 'right'], [2, 3, 6, 'close by'], [2, 8, 4, 'front'], [2, 8, 2, 'left'], [2, 15, 2, 'left'], [2, 17, 3, 'right'], [2, 53, 4, 'front'], [2, 55, 4, 'front'], [2, 55, 2, 'left'], [3, 2, 6, 'close by'], [3, 2, 2, 'left'], [3, 15, 6, 'close by'], [3, 15, 2, 'left'], [3, 17, 3, 'right'], [3, 17, 6, 'close by'], [3, 23, 4, 'front'], [6, 30, 2, 'left'], [8, 2, 3, 'right'], [8, 2, 5, 'behind'], [8, 15, 3, 'right'], [8, 21, 2, 'left'], [8, 23, 2, 'left'], [8, 53, 6, 'close by'], [8, 55, 6, 'close by'], [9, 11, 6, 'close by'], [9, 11, 5, 'behind'], [11, 9, 4, 'front'], [11, 9, 6, 'close by'], [15, 2, 3, 'right'], [15, 3, 3, 'right'], [15, 3, 6, 'close by'], [15, 8, 2, 'left'], [15, 17, 3, 'right'], [15, 53, 2, 'left'], [15, 55, 2, 'left'], [17, 2, 2, 'left'], [17, 3, 6, 'close by'], [17, 3, 2, 'left'], [17, 15, 2, 'left'], [17, 21, 4, 'front'], [21, 8, 3, 'right'], [21, 17, 5, 'behind'], [21, 23, 4, 'front'], [21, 53, 3, 'right'], [21, 55, 3, 'right'], [23, 3, 5, 'behind'], [23, 8, 3, 'right'], [23, 21, 5, 'behind'], [23, 53, 3, 'right'], [23, 55, 3, 'right'], [30, 6, 3, 'right'], [43, 44, 5, 'behind'], [44, 43, 4, 'front'], [45, 47, 3, 'right'], [45, 47, 5, 'behind'], [45, 54, 3, 'right'], [45, 54, 5, 'behind'], [47, 45, 4, 'front'], [47, 45, 2, 'left'], [47, 54, 3, 'right'], [47, 54, 6, 'close by'], [53, 2, 5, 'behind'], [53, 8, 6, 'close by'], [53, 15, 3, 'right'], [53, 21, 2, 'left'], [53, 23, 2, 'left'], [53, 55, 3, 'right'], [53, 55, 6, 'close by'], [54, 45, 4, 'front'], [54, 45, 2, 'left'], [54, 47, 6, 'close by'], [54, 47, 2, 'left'], [55, 2, 3, 'right'], [55, 2, 5, 'behind'], [55, 8, 6, 'close by'], [55, 15, 3, 'right'], [55, 21, 2, 'left'], [55, 23, 2, 'left'], [55, 53, 6, 'close by'], [55, 53, 2, 'left'], [53, 55, 9, 'smaller than'], [55, 53, 8, 'bigger than'], [43, 23, 27, 'same color'], [9, 18, 28, 'same material'], [5, 28, 32, 'same object type'], [9, 43, 30, 'same shape'], [3, 8, 32, 'same object type'], [18, 26, 39, 'darker than'], [43, 2, 28, 'same material'], [14, 30, 30, 'same shape'], [2, 55, 40, 'more comfortable than'], [51, 52, 30, 'same shape'], [52, 14, 30, 'same shape'], [26, 50, 32, 'same object type'], [18, 37, 28, 'same material'], [50, 11, 30, 'same shape'], [31, 5, 34, 'cleaner than'], [50, 18, 30, 'same shape'], [26, 51, 32, 'same object type'], [28, 5, 28, 'same material'], [28, 5, 27, 'same color'], [26, 52, 27, 'same color'], [28, 50, 27, 'same color'], [41, 39, 32, 'same object type'], [30, 50, 30, 'same shape'], [31, 50, 30, 'same shape'], [51, 18, 30, 'same shape'], [9, 18, 31, 'same state'], [31, 52, 30, 'same shape'], [52, 26, 30, 'same shape'], [11, 52, 30, 'same shape'], [14, 11, 30, 'same shape'], [18, 51, 30, 'same shape'], [43, 37, 30, 'same shape'], [50, 26, 30, 'same shape'], [41, 40, 32, 'same object type'], [52, 26, 27, 'same color'], [30, 14, 30, 'same shape'], [43, 17, 30, 'same shape'], [39, 41, 32, 'same object type'], [37, 9, 32, 'same object type'], [8, 3, 32, 'same object type'], [5, 28, 33, 'messier than'], [28, 2, 34, 'cleaner than'], [18, 9, 27, 'same color'], [51, 26, 30, 'same shape'], [50, 26, 32, 'same object type'], [52, 26, 32, 'same object type'], [17, 37, 30, 'same shape'], [9, 5, 39, 'darker than'], [52, 50, 32, 'same object type'], [51, 28, 27, 'same color'], [51, 14, 30, 'same shape'], [2, 43, 28, 'same material'], [30, 52, 30, 'same shape'], [31, 30, 30, 'same shape'], [18, 52, 30, 'same shape'], [18, 31, 30, 'same shape'], [37, 18, 31, 'same state'], [31, 26, 30, 'same shape'], [26, 9, 38, 'brighter than'], [28, 5, 34, 'cleaner than'], [14, 18, 30, 'same shape'], [37, 18, 28, 'same material'], [18, 51, 39, 'darker than'], [18, 26, 30, 'same shape'], [14, 51, 30, 'same shape'], [50, 52, 30, 'same shape'], [30, 11, 30, 'same shape'], [5, 26, 27, 'same color'], [11, 30, 30, 'same shape'], [50, 18, 38, 'brighter than'], [2, 53, 40, 'more comfortable than'], [52, 9, 38, 'brighter than'], [18, 9, 31, 'same state'], [51, 31, 30, 'same shape'], [28, 5, 32, 'same object type'], [28, 26, 27, 'same color'], [11, 18, 30, 'same shape'], [50, 26, 27, 'same color'], [18, 37, 31, 'same state'], [5, 28, 28, 'same material'], [11, 31, 30, 'same shape'], [26, 18, 38, 'brighter than'], [51, 50, 30, 'same shape'], [26, 14, 30, 'same shape'], [9, 28, 39, 'darker than'], [30, 51, 30, 'same shape'], [5, 18, 38, 'brighter than'], [32, 7, 32, 'same object type'], [42, 41, 32, 'same object type'], [9, 37, 30, 'same shape'], [52, 51, 27, 'same color'], [51, 50, 27, 'same color'], [9, 37, 31, 'same state'], [53, 55, 32, 'same object type'], [18, 28, 39, 'darker than'], [50, 28, 27, 'same color'], [40, 42, 32, 'same object type'], [55, 53, 32, 'same object type'], [31, 11, 30, 'same shape'], [52, 18, 30, 'same shape'], [18, 11, 30, 'same shape'], [39, 42, 32, 'same object type'], [50, 30, 30, 'same shape'], [30, 31, 30, 'same shape'], [43, 9, 30, 'same shape'], [18, 9, 28, 'same material'], [18, 52, 39, 'darker than'], [28, 52, 27, 'same color'], [45, 44, 32, 'same object type'], [52, 50, 30, 'same shape'], [52, 28, 27, 'same color'], [51, 50, 32, 'same object type'], [28, 51, 27, 'same color'], [51, 5, 27, 'same color'], [26, 52, 32, 'same object type'], [44, 45, 32, 'same object type'], [5, 52, 27, 'same color'], [42, 39, 32, 'same object type'], [23, 5, 34, 'cleaner than'], [31, 2, 34, 'cleaner than'], [5, 50, 27, 'same color'], [39, 40, 32, 'same object type'], [37, 17, 30, 'same shape'], [14, 26, 30, 'same shape'], [30, 26, 30, 'same shape'], [14, 31, 30, 'same shape'], [52, 5, 27, 'same color'], [51, 26, 32, 'same object type'], [9, 52, 39, 'darker than'], [26, 51, 30, 'same shape'], [9, 18, 27, 'same color'], [30, 18, 30, 'same shape'], [11, 14, 30, 'same shape'], [9, 26, 39, 'darker than'], [50, 31, 30, 'same shape'], [26, 5, 27, 'same color'], [18, 50, 39, 'darker than'], [51, 52, 32, 'same object type'], [18, 30, 30, 'same shape'], [5, 51, 27, 'same color'], [50, 52, 32, 'same object type'], [9, 37, 28, 'same material'], [18, 14, 30, 'same shape'], [14, 52, 30, 'same shape'], [26, 11, 30, 'same shape'], [52, 51, 30, 'same shape'], [50, 51, 32, 'same object type'], [9, 50, 39, 'darker than'], [51, 52, 27, 'same color'], [26, 52, 30, 'same shape'], [50, 14, 30, 'same shape'], [50, 51, 30, 'same shape'], [9, 17, 30, 'same shape'], [11, 50, 30, 'same shape'], [28, 5, 35, 'fuller than'], [5, 28, 27, 'same color'], [51, 18, 38, 'brighter than'], [40, 39, 32, 'same object type'], [51, 30, 30, 'same shape'], [31, 14, 30, 'same shape'], [37, 9, 30, 'same shape'], [52, 30, 30, 'same shape'], [2, 31, 33, 'messier than'], [26, 51, 27, 'same color'], [26, 18, 30, 'same shape'], [28, 18, 38, 'brighter than'], [5, 28, 35, 'fuller than'], [7, 32, 32, 'same object type'], [31, 51, 30, 'same shape'], [17, 43, 30, 'same shape'], [28, 9, 38, 'brighter than'], [52, 51, 32, 'same object type'], [50, 52, 27, 'same color'], [51, 11, 30, 'same shape'], [2, 28, 33, 'messier than'], [26, 28, 27, 'same color'], [52, 50, 27, 'same color'], [52, 31, 30, 'same shape'], [18, 50, 30, 'same shape'], [23, 43, 27, 'same color'], [2, 23, 33, 'messier than'], [41, 42, 32, 'same object type'], [50, 9, 38, 'brighter than'], [37, 9, 31, 'same state'], [52, 18, 38, 'brighter than'], [11, 51, 30, 'same shape'], [51, 26, 27, 'same color'], [18, 5, 39, 'darker than'], [5, 23, 33, 'messier than'], [9, 37, 32, 'same object type'], [31, 18, 30, 'same shape'], [23, 2, 34, 'cleaner than'], [37, 43, 30, 'same shape'], [52, 11, 30, 'same shape'], [14, 50, 30, 'same shape'], [9, 51, 39, 'darker than'], [50, 5, 27, 'same color'], [26, 31, 30, 'same shape'], [26, 30, 30, 'same shape'], [26, 50, 30, 'same shape'], [5, 9, 38, 'brighter than'], [42, 40, 32, 'same object type'], [37, 9, 28, 'same material'], [51, 9, 38, 'brighter than'], [50, 51, 27, 'same color'], [11, 26, 30, 'same shape'], [40, 41, 32, 'same object type'], [5, 31, 33, 'messier than'], [17, 9, 30, 'same shape'], [26, 50, 27, 'same color']]\n"
     ]
    }
   ],
   "source": [
    "scenes = []\n",
    "i=0\n",
    "\n",
    "# Iterate over the folders\n",
    "for scan_folder in os.listdir(path_to_scene_folders):\n",
    "    if i>2:\n",
    "        break\n",
    "    if os.path.isdir(os.path.join(path_to_scene_folders, scan_folder)):\n",
    "        scene_data = {}\n",
    "        \n",
    "        extracted_objects = extract_and_filter_semseg(scan_folder)\n",
    "        extracted_relationships = extract_and_filter_relationships(scan_folder, extracted_objects)\n",
    "        #print(extracted_objects)\n",
    "        \n",
    "        scene_data['scene_id'] = scan_folder\n",
    "        scene_data['scene_matrix'] = build_scene_matrix(extracted_objects)\n",
    "        scene_data['graph_objects'] = 2\n",
    "        scene_data['graph_edges'] = 3\n",
    "        scene_data['graph_relationships'] = 4\n",
    "        scenes.append(scene_data)\n",
    "    i+=1\n",
    "\n",
    "data = {\"scenes\": scenes}\n",
    "\n"
   ]
  },
  {
   "cell_type": "code",
   "execution_count": null,
   "id": "99fd3023",
   "metadata": {},
   "outputs": [],
   "source": []
  }
 ],
 "metadata": {
  "kernelspec": {
   "display_name": "Python 3 (ipykernel)",
   "language": "python",
   "name": "python3"
  },
  "language_info": {
   "codemirror_mode": {
    "name": "ipython",
    "version": 3
   },
   "file_extension": ".py",
   "mimetype": "text/x-python",
   "name": "python",
   "nbconvert_exporter": "python",
   "pygments_lexer": "ipython3",
   "version": "3.10.4"
  }
 },
 "nbformat": 4,
 "nbformat_minor": 5
}
