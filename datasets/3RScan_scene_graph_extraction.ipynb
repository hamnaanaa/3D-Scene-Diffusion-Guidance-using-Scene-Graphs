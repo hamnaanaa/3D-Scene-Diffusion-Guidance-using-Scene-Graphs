{
 "cells": [
  {
   "attachments": {},
   "cell_type": "markdown",
   "metadata": {},
   "source": [
    "# Extracting scene graphs for 3RScan scenes dataset"
   ]
  },
  {
   "cell_type": "code",
   "execution_count": 15,
   "metadata": {},
   "outputs": [],
   "source": [
    "PATH_TO_RELATIONS = 'datasets/3RScan/data/3RScan/relationships.json'\n",
    "PATH_TO_SCENE_FOLDERS = 'datasets/3RScan/data/3RScan'\n",
    "\n",
    "scene_id = '4acaebcc-6c10-2a2a-858b-29c7e4fb410d'"
   ]
  },
  {
   "attachments": {},
   "cell_type": "markdown",
   "metadata": {},
   "source": [
    "1. Read the contents of the \"relationships.json\" file to extract the relationships between objects in the scenes"
   ]
  },
  {
   "cell_type": "code",
   "execution_count": 30,
   "metadata": {},
   "outputs": [
    {
     "name": "stdout",
     "output_type": "stream",
     "text": [
      "Found 1 relationships dictionary for scene 4acaebcc-6c10-2a2a-858b-29c7e4fb410d\n",
      "Found 310 relationships for scene 4acaebcc-6c10-2a2a-858b-29c7e4fb410d, here are the first 10:\n",
      "Relationship #1 : [2, 1, 14, 'attached to']\n",
      "Relationship #2 : [3, 1, 14, 'attached to']\n",
      "Relationship #3 : [4, 3, 14, 'attached to']\n",
      "Relationship #4 : [5, 4, 15, 'standing on']\n",
      "Relationship #5 : [6, 4, 15, 'standing on']\n",
      "Relationship #6 : [7, 4, 15, 'standing on']\n",
      "Relationship #7 : [8, 4, 15, 'standing on']\n",
      "Relationship #8 : [11, 3, 14, 'attached to']\n",
      "Relationship #9 : [13, 4, 15, 'standing on']\n",
      "Relationship #10: [14, 1, 14, 'attached to']\n"
     ]
    }
   ],
   "source": [
    "import json\n",
    "\n",
    "with open(PATH_TO_RELATIONS) as f:\n",
    "    relationships_data = json.load(f)\n",
    "\n",
    "scene_relationships = relationships_data['scans']\n",
    "\n",
    "# Find the relationships for the scene with the given id\n",
    "scene_relationships = [r for r in scene_relationships if r['scan'] == scene_id]\n",
    "\n",
    "print('Found {} relationships dictionary for scene {}'.format(len(scene_relationships), scene_id))\n",
    "scene_relationships = scene_relationships[0]['relationships']\n",
    "\n",
    "# Print the first 10 relationships\n",
    "n = 10\n",
    "print(f\"Found {len(scene_relationships)} relationships for scene {scene_id}, here are the first {n}:\")\n",
    "for i, r in enumerate(scene_relationships[:n]):\n",
    "    print(f\"Relationship #{i+1:<2}: {r}\")"
   ]
  },
  {
   "attachments": {},
   "cell_type": "markdown",
   "metadata": {},
   "source": [
    "2. Read the contents of each \"semseg.v2.json\" file in the scene folders to extract object information"
   ]
  },
  {
   "cell_type": "code",
   "execution_count": 26,
   "metadata": {},
   "outputs": [
    {
     "name": "stdout",
     "output_type": "stream",
     "text": [
      "Found 32 objects in the scene, here are the first 3:\n",
      "Object #1: (17, 'beanbag')\n",
      "Object #2: (18, 'beanbag')\n",
      "Object #3: (19, 'table')\n"
     ]
    }
   ],
   "source": [
    "import os\n",
    "\n",
    "scene_graphs = []\n",
    "# relation_types = set()\n",
    "# object_ids = set()\n",
    "\n",
    "file_path = os.path.join(PATH_TO_SCENE_FOLDERS, scene_id, 'semseg.v2.json')\n",
    "with open(file_path) as f:\n",
    "    scene_data = json.load(f)\n",
    "\n",
    "objects = scene_data['segGroups']\n",
    "# TODO: use index instead of objectId as key?\n",
    "scene_objects = [(obj['objectId'], obj['label']) for obj in objects]\n",
    "\n",
    "scene_graphs.append(scene_objects)\n",
    "\n",
    "n = 3\n",
    "print(f\"Found {len(scene_objects)} objects in the scene, here are the first {n}:\")\n",
    "for i, obj in enumerate(scene_objects[:n]):\n",
    "    print(f\"Object #{i+1}: {obj}\")"
   ]
  },
  {
   "attachments": {},
   "cell_type": "markdown",
   "metadata": {},
   "source": [
    "3. Create a mapping of relation types to integer values"
   ]
  },
  {
   "cell_type": "code",
   "execution_count": 33,
   "metadata": {},
   "outputs": [
    {
     "name": "stdout",
     "output_type": "stream",
     "text": [
      "Found 25 relation types, here are the first 6:\n",
      "Relation type #1: attached to\n",
      "Relation type #2: standing on\n",
      "Relation type #3: connected to\n",
      "Relation type #4: cover\n",
      "Relation type #5: lying on\n",
      "Relation type #6: leaning against\n"
     ]
    }
   ],
   "source": [
    "relation_type_mapping = {}\n",
    "for relation in scene_relationships:\n",
    "    relation_type = relation[3]\n",
    "    if relation_type not in relation_type_mapping:\n",
    "        relation_type_mapping[relation_type] = len(relation_type_mapping)\n",
    "\n",
    "n = 6\n",
    "print(f\"Found {len(relation_type_mapping)} relation types, here are the first {n}:\")\n",
    "for i, relation_type in enumerate(list(relation_type_mapping.keys())[:n]):\n",
    "    print(f\"Relation type #{i+1}: {relation_type}\")\n"
   ]
  },
  {
   "attachments": {},
   "cell_type": "markdown",
   "metadata": {},
   "source": [
    "4. TODO"
   ]
  },
  {
   "cell_type": "code",
   "execution_count": 34,
   "metadata": {},
   "outputs": [],
   "source": [
    "N = []\n",
    "E = [[], []]\n",
    "R = []\n",
    "\n",
    "for scene_objects in scene_graphs:\n",
    "    node_mapping = {obj[0]: i for i, obj in enumerate(scene_objects)}\n",
    "    \n",
    "    for obj in scene_objects:\n",
    "        N.append(obj)\n",
    "    \n",
    "    for relation in scene_relationships:\n",
    "        source_id = relation[0]\n",
    "        target_id = relation[1]\n",
    "        relation_type = relation[3]\n",
    "        \n",
    "        if source_id in node_mapping and target_id in node_mapping:\n",
    "            source_idx = node_mapping[source_id]\n",
    "            target_idx = node_mapping[target_id]\n",
    "            \n",
    "            E[0].append(source_idx)\n",
    "            E[1].append(target_idx)\n",
    "            R.append(relation_type_mapping[relation_type])\n"
   ]
  },
  {
   "cell_type": "code",
   "execution_count": 35,
   "metadata": {},
   "outputs": [],
   "source": [
    "import numpy as np\n",
    "\n",
    "N = np.array(N, dtype=object)\n",
    "E = np.array(E)\n",
    "R = np.array(R)"
   ]
  },
  {
   "cell_type": "code",
   "execution_count": 44,
   "metadata": {},
   "outputs": [
    {
     "name": "stdout",
     "output_type": "stream",
     "text": [
      "Dimensions check: N: (32, 2), E: (2, 310), R: (310,)\n",
      "Here are the first 20 nodes:\n",
      "[[17 18 19 20 21 22 23 24 25 26 27 28 29 30 33 100 1 2 3 4]\n",
      " ['beanbag' 'beanbag' 'table' 'cushion' 'cushion' 'sofa' 'cushion' 'tv'\n",
      "  'commode' 'ceiling' 'plant' 'window' 'light' 'light' 'window' 'window'\n",
      "  'floor' 'wall' 'wall' 'windowsill']]\n",
      "Here are the first 20 edges:\n",
      "[[17 18 19 20 21 22 23 26 28 29 30 31  2  3  4  5  6  7  8  9]\n",
      " [16 16 18 19 19 19 19 18 19 16 18 16 16  5  5 16  4  8 16 17]]\n",
      "Here are the first 20 relations:\n",
      "[0 0 0 1 1 1 1 0 1 0 2 1 1 3 4 1 5 1 1 0]\n"
     ]
    }
   ],
   "source": [
    "print(f\"Dimensions check: N: {N.shape}, E: {E.shape}, R: {R.shape}\")\n",
    "\n",
    "n = 20\n",
    "\n",
    "print(f\"Here are the first {n} nodes:\")\n",
    "print(N[:n].T)\n",
    "\n",
    "print(f\"Here are the first {n} edges:\")\n",
    "print(E[:, :n])\n",
    "\n",
    "print(f\"Here are the first {n} relations:\")\n",
    "print(R[:n])"
   ]
  }
 ],
 "metadata": {
  "kernelspec": {
   "display_name": "adl4cv",
   "language": "python",
   "name": "python3"
  },
  "language_info": {
   "codemirror_mode": {
    "name": "ipython",
    "version": 3
   },
   "file_extension": ".py",
   "mimetype": "text/x-python",
   "name": "python",
   "nbconvert_exporter": "python",
   "pygments_lexer": "ipython3",
   "version": "3.10.11"
  },
  "orig_nbformat": 4
 },
 "nbformat": 4,
 "nbformat_minor": 2
}
