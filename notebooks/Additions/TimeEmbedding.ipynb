{
 "cells": [
  {
   "cell_type": "markdown",
   "id": "d812f94e",
   "metadata": {},
   "source": [
    "Sinusoidal Embedding"
   ]
  },
  {
   "cell_type": "code",
   "execution_count": 17,
   "id": "6df78651",
   "metadata": {},
   "outputs": [],
   "source": [
    "import math\n",
    "\n",
    "import torch\n",
    "from torch import nn"
   ]
  },
  {
   "cell_type": "code",
   "execution_count": 18,
   "id": "99bb3178",
   "metadata": {},
   "outputs": [],
   "source": [
    "class TimeEmbedding(nn.Module):\n",
    "    \"\"\"Input: t [B]\n",
    "    Output: t_embedd [B, F]\"\"\"\n",
    "    \n",
    "    def __init__(self, dim): # set F as an EVEN number!\n",
    "        super().__init__()\n",
    "        self.dim = dim\n",
    "\n",
    "    def forward(self, x): # x needs to be of type torch.tensor with length N!\n",
    "        device = x.device\n",
    "        half_dim = self.dim // 2\n",
    "        emb = math.log(10000) / (half_dim - 1)\n",
    "        emb = torch.exp(torch.arange(half_dim, device=device) * -emb)\n",
    "        emb = x[:, None] * emb[None, :]\n",
    "        emb = torch.cat((emb.sin(), emb.cos()), dim=-1)\n",
    "        return emb\n",
    "\n"
   ]
  },
  {
   "cell_type": "code",
   "execution_count": 19,
   "id": "8f45936e",
   "metadata": {},
   "outputs": [
    {
     "name": "stdout",
     "output_type": "stream",
     "text": [
      "tensor([[3.8942e-01, 4.0000e-05, 9.2106e-01, 1.0000e+00],\n",
      "        [5.6464e-01, 6.0000e-05, 8.2534e-01, 1.0000e+00]])\n"
     ]
    }
   ],
   "source": [
    "t = torch.tensor([0.4, 0.6])\n",
    "time = TimeEmbedding(dim=5)\n",
    "t_embedding = time(t)\n",
    "print(t_embedding)"
   ]
  },
  {
   "cell_type": "code",
   "execution_count": null,
   "id": "48d5bb85",
   "metadata": {},
   "outputs": [],
   "source": []
  }
 ],
 "metadata": {
  "kernelspec": {
   "display_name": "Python 3 (ipykernel)",
   "language": "python",
   "name": "python3"
  },
  "language_info": {
   "codemirror_mode": {
    "name": "ipython",
    "version": 3
   },
   "file_extension": ".py",
   "mimetype": "text/x-python",
   "name": "python",
   "nbconvert_exporter": "python",
   "pygments_lexer": "ipython3",
   "version": "3.10.4"
  }
 },
 "nbformat": 4,
 "nbformat_minor": 5
}
